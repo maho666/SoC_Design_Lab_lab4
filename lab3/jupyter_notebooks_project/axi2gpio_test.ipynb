{
 "cells": [
  {
   "cell_type": "code",
   "execution_count": 6,
   "id": "8fe68574",
   "metadata": {},
   "outputs": [
    {
     "name": "stdout",
     "output_type": "stream",
     "text": [
      "Entry: /usr/local/share/pynq-venv/lib/python3.10/site-packages/ipykernel_launcher.py\n",
      "System argument(s): 3\n",
      "Start of \"/usr/local/share/pynq-venv/lib/python3.10/site-packages/ipykernel_launcher.py\"\n",
      "Load bitstream success.\n"
     ]
    }
   ],
   "source": [
    "\n",
    "# coding: utf-8\n",
    "\n",
    "# In[ ]:\n",
    "\n",
    "\n",
    "from __future__ import print_function\n",
    "\n",
    "import sys, os\n",
    "\n",
    "sys.path.append('/home/xilinx')\n",
    "os.environ['XILINX_XRT'] = '/usr'\n",
    "from pynq import Overlay\n",
    "\n",
    "if __name__ == \"__main__\":\n",
    "    print(\"Entry:\", sys.argv[0])\n",
    "    print(\"System argument(s):\", len(sys.argv))\n",
    "\n",
    "    print(\"Start of \\\"\" + sys.argv[0] + \"\\\"\")\n",
    "\n",
    "    ol = Overlay(\"/home/xilinx/jupyter_notebooks/axi2gpio/axi2gpio.bit\")\n",
    "    regIP = ol.caravel_ps_0\n",
    "    \n",
    "    \n",
    "    print(\"Load bitstream success.\")"
   ]
  },
  {
   "cell_type": "code",
   "execution_count": 8,
   "id": "8bdbb450",
   "metadata": {},
   "outputs": [
    {
     "name": "stdout",
     "output_type": "stream",
     "text": [
      "output enable: 0x0\n",
      "============================\n",
      "input : 0xffe51e81 output: 0xffe51e81\n",
      "PASS\n",
      "============================\n",
      "input : 0x227139c7 output: 0x227139c7\n",
      "PASS\n",
      "============================\n",
      "input : 0x30dfa64d output: 0x30dfa64d\n",
      "PASS\n",
      "============================\n",
      "input : 0x5a4de077 output: 0x5a4de077\n",
      "PASS\n",
      "============================\n",
      "input : 0xebb8a151 output: 0xebb8a151\n",
      "PASS\n",
      "============================\n",
      "input : 0x8fe70de output: 0x8fe70de\n",
      "PASS\n",
      "============================\n",
      "input : 0x41a4837a output: 0x41a4837a\n",
      "PASS\n",
      "============================\n",
      "input : 0x5dc3a25f output: 0x5dc3a25f\n",
      "PASS\n",
      "============================\n",
      "input : 0xa74008bb output: 0xa74008bb\n",
      "PASS\n"
     ]
    }
   ],
   "source": [
    "import random\n",
    "\n",
    "regIP.write(0x14, 0x10)\n",
    "\n",
    "lv = regIP.read(0x34)\n",
    "hv = regIP.read(0x38)\n",
    "\n",
    "print(\"output enable: \"  +hex( lv) )\n",
    "\n",
    "for i in range(9):\n",
    "    print(\"============================\")\n",
    "\n",
    "    regIP.write(0x10, random.randint(0, 0xffffffff))\n",
    "    out = regIP.read(0x1c)\n",
    "    input = regIP.read(0x10)\n",
    "            \n",
    "    print(\"input : \" +hex( input) +\" output: \" + hex(out) )           \n",
    "    print( \"PASS\" if(out==input) else\"FAIL\")\n",
    "\n"
   ]
  },
  {
   "cell_type": "code",
   "execution_count": 9,
   "id": "ae87efbc",
   "metadata": {},
   "outputs": [
    {
     "name": "stdout",
     "output_type": "stream",
     "text": [
      "output enable: 0xffffffff\n",
      "============================\n",
      "input : 0x65de7f05 output: 0xa74008bb\n",
      "FAIL\n",
      "============================\n",
      "input : 0x2a8f915 output: 0xa74008bb\n",
      "FAIL\n",
      "============================\n",
      "input : 0xf71e3bae output: 0xa74008bb\n",
      "FAIL\n",
      "============================\n",
      "input : 0xd76e3d20 output: 0xa74008bb\n",
      "FAIL\n",
      "============================\n",
      "input : 0xabe08477 output: 0xa74008bb\n",
      "FAIL\n",
      "============================\n",
      "input : 0x7ceadfa0 output: 0xa74008bb\n",
      "FAIL\n",
      "============================\n",
      "input : 0x28600e76 output: 0xa74008bb\n",
      "FAIL\n",
      "============================\n",
      "input : 0xdf8321d1 output: 0xa74008bb\n",
      "FAIL\n",
      "============================\n",
      "input : 0x5b0dd855 output: 0xa74008bb\n",
      "FAIL\n"
     ]
    }
   ],
   "source": [
    "\n",
    "regIP.write(0x14, 0x30)\n",
    "lv = regIP.read(0x34)\n",
    "hv = regIP.read(0x38)\n",
    "\n",
    "print(\"output enable: \" + hex( lv) )\n",
    "\n",
    "for i in range(9):\n",
    "    print(\"============================\")\n",
    "\n",
    "    regIP.write(0x10, random.randint(0, 0xffffffff))\n",
    "    out = regIP.read(0x1c)\n",
    "    input = regIP.read(0x10)\n",
    "            \n",
    "    print(\"input : \" +hex( input) +\" output: \" + hex(out) )           \n",
    "    print( \"PASS\" if(out==input) else\"FAIL\")\n"
   ]
  },
  {
   "cell_type": "code",
   "execution_count": 10,
   "id": "1d6cfd16",
   "metadata": {},
   "outputs": [
    {
     "name": "stdout",
     "output_type": "stream",
     "text": [
      "output enable: 0x0\n",
      "============================\n",
      "input : 0x427d02da output: 0x1234\n",
      "PASS\n"
     ]
    }
   ],
   "source": [
    "regIP.write(0x14, 0x00)\n",
    "lv = regIP.read(0x34)\n",
    "hv = regIP.read(0x38)\n",
    "\n",
    "print(\"output enable: \" + hex( lv) )\n",
    "\n",
    "\n",
    "print(\"============================\")\n",
    "\n",
    "regIP.write(0x10, random.randint(0, 0xffffffff))\n",
    "out = regIP.read(0x1c)\n",
    "input = regIP.read(0x10)\n",
    "            \n",
    "print(\"input : \" +hex( input) +\" output: \" + hex(out) )           \n",
    "print( \"PASS\" if(out==0x1234) else\"FAIL\")"
   ]
  },
  {
   "cell_type": "code",
   "execution_count": null,
   "id": "10252919",
   "metadata": {},
   "outputs": [],
   "source": []
  }
 ],
 "metadata": {
  "kernelspec": {
   "display_name": "Python 3 (ipykernel)",
   "language": "python",
   "name": "python3"
  },
  "language_info": {
   "codemirror_mode": {
    "name": "ipython",
    "version": 3
   },
   "file_extension": ".py",
   "mimetype": "text/x-python",
   "name": "python",
   "nbconvert_exporter": "python",
   "pygments_lexer": "ipython3",
   "version": "3.10.4"
  }
 },
 "nbformat": 4,
 "nbformat_minor": 5
}
