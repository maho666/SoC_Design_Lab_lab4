{
 "cells": [
  {
   "cell_type": "code",
   "execution_count": 14,
   "id": "5640eceb",
   "metadata": {},
   "outputs": [
    {
     "name": "stdout",
     "output_type": "stream",
     "text": [
      "Entry: /usr/local/share/pynq-venv/lib/python3.8/site-packages/ipykernel_launcher.py\n",
      "System argument(s): 3\n",
      "Start of \"/usr/local/share/pynq-venv/lib/python3.8/site-packages/ipykernel_launcher.py\"\n",
      "4\n",
      "rom_buffer_original_PA:  377831424\n",
      "rom_buffer_read_back_PA:  377835520\n",
      "write to bram done\n",
      "read from bram done\n",
      "============================\n",
      "Exit process\n"
     ]
    }
   ],
   "source": [
    "# coding: utf-8\n",
    "\n",
    "# In[ ]:\n",
    "\n",
    "\n",
    "from __future__ import print_function\n",
    "\n",
    "import sys, os\n",
    "from pynq import allocate\n",
    "\n",
    "sys.path.append('/home/xilinx')\n",
    "os.environ['XILINX_XRT'] = '/usr'\n",
    "from pynq import Overlay\n",
    "\n",
    "if __name__ == \"__main__\":\n",
    "    print(\"Entry:\", sys.argv[0])\n",
    "    print(\"System argument(s):\", len(sys.argv))\n",
    "\n",
    "    print(\"Start of \\\"\" + sys.argv[0] + \"\\\"\")\n",
    "\n",
    "    ol = Overlay(\"/home/xilinx/jupyter_notebooks/lab1-read_romcode/design.bit\")\n",
    "    regIP = ol.read_romcode_0\n",
    "    \n",
    "    status = regIP.read(0x00)\n",
    "    print(status)\n",
    "    \n",
    "    ROM_SIZE = 1024\n",
    "    \n",
    "    rom_buffer_original = allocate(shape=(ROM_SIZE,), dtype='uint32')\n",
    "    rom_buffer_read_back = allocate(shape=(ROM_SIZE,), dtype='uint32')\n",
    "    \n",
    "    for i in range(ROM_SIZE):  #initial\n",
    "        rom_buffer_original[i] = i\n",
    "        rom_buffer_read_back[i] = 0\n",
    "    \n",
    "    rom_buffer_original_PA = rom_buffer_original.device_address\n",
    "    rom_buffer_read_back_PA = rom_buffer_read_back.device_address\n",
    "    \n",
    "    print(\"rom_buffer_original_PA: \",rom_buffer_original_PA)\n",
    "    print(\"rom_buffer_read_back_PA: \",rom_buffer_read_back_PA)\n",
    "    \n",
    "    # set AXI master base address\n",
    "    regIP.write(0x10, rom_buffer_original_PA)\n",
    "    regIP.write(0x1c, rom_buffer_read_back_PA)\n",
    "        \n",
    "    # write ROM to BRAM\n",
    "    regIP.write(0x28, 0)  # set write to bram cmd\n",
    "    regIP.write(0x00, 0x01)  # IP satrt\n",
    "    while (regIP.read(0x00) & 0x4) == 0x0:  # wait for done\n",
    "        continue\n",
    "    print(\"write to bram done\")\n",
    "    \n",
    "    # read back from BRAM\n",
    "    regIP.write(0x28, 1)  # set read back\n",
    "    regIP.write(0x00, 0x01)  # IP satrt\n",
    "    while (regIP.read(0x00) & 0x4) == 0x0:  # wait for done\n",
    "        continue\n",
    "    print(\"read from bram done\")\n",
    "    \n",
    "    # check\n",
    "    for i in range(ROM_SIZE):\n",
    "        if rom_buffer_original[i] != rom_buffer_read_back[i]:\n",
    "            print(\"diff in \",i,\"th element, golden:\",rom_buffer_original[i],\", read back: \",rom_buffer_read_back[i])\n",
    "\n",
    "    print(\"============================\")\n",
    "    print(\"Exit process\")"
   ]
  },
  {
   "cell_type": "code",
   "execution_count": null,
   "id": "1ceea8fa",
   "metadata": {},
   "outputs": [],
   "source": []
  }
 ],
 "metadata": {
  "kernelspec": {
   "display_name": "Python 3",
   "language": "python",
   "name": "python3"
  },
  "language_info": {
   "codemirror_mode": {
    "name": "ipython",
    "version": 3
   },
   "file_extension": ".py",
   "mimetype": "text/x-python",
   "name": "python",
   "nbconvert_exporter": "python",
   "pygments_lexer": "ipython3",
   "version": "3.8.2"
  }
 },
 "nbformat": 4,
 "nbformat_minor": 5
}
